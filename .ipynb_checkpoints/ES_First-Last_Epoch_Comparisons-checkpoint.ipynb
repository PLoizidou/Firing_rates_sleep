{
 "cells": [
  {
   "cell_type": "code",
   "execution_count": null,
   "id": "0bf8f985",
   "metadata": {},
   "outputs": [],
   "source": [
    "import bk.load\n",
    "import bk.plot\n",
    "import numpy as np\n",
    "import pandas as pd\n",
    "import matplotlib.pyplot as plt\n",
    "import matplotlib.patches as mpatches\n",
    "\n",
    "from sklearn.preprocessing import normalize\n",
    "from sklearn.linear_model import LinearRegression\n",
    "from sklearn.preprocessing import PolynomialFeatures\n",
    "\n",
    "import neuroseries as nts\n",
    "\n",
    "from scipy.stats import spearmanr,pearsonr, wilcoxon, zscore, ttest_ind\n",
    "\n",
    "import os\n",
    "import fun\n",
    "import re\n",
    "from itertools import chain\n",
    "\n",
    "%matplotlib qt\n",
    "import pl\n"
   ]
  },
  {
   "cell_type": "code",
   "execution_count": null,
   "id": "5623d430",
   "metadata": {},
   "outputs": [],
   "source": [
    "# importing the directories of data for each session\n",
    "paths = pd.read_csv('Z:/All-Rats/Billel/session_indexing.csv',sep = ';')['Path']"
   ]
  },
  {
   "cell_type": "markdown",
   "id": "00a694f5",
   "metadata": {},
   "source": [
    "## NREM"
   ]
  },
  {
   "cell_type": "markdown",
   "id": "27b0b65d",
   "metadata": {},
   "source": [
    "### Hippocampus"
   ]
  },
  {
   "cell_type": "code",
   "execution_count": null,
   "id": "8ef8faea",
   "metadata": {},
   "outputs": [],
   "source": [
    "Pyr_Hpc_NREM_pre=pl.get_first_last_avg_all_sessions(paths=paths, celltype='Pyr', region='Hpc', stage='nrem', pre_RUN=True, min_dur=30)\n",
    "Pyr_Hpc_NREM_post=pl.get_first_last_avg_all_sessions(paths=paths, celltype='Pyr', region='Hpc', stage='nrem', pre_RUN=False, min_dur=30)\n",
    "Int_Hpc_NREM_pre=pl.get_first_last_avg_all_sessions(paths=paths, celltype='Int', region='Hpc', stage='nrem', pre_RUN=True, min_dur=30)\n",
    "Int_Hpc_NREM_post=pl.get_first_last_avg_all_sessions(paths=paths, celltype='Int', region='Hpc', stage='nrem', pre_RUN=False, min_dur=30)"
   ]
  },
  {
   "cell_type": "code",
   "execution_count": null,
   "id": "d22f5179",
   "metadata": {},
   "outputs": [],
   "source": [
    "Pyr_Hpc_NREM=Pyr_Hpc_NREM_pre+Pyr_Hpc_NREM_post\n",
    "Int_Hpc_NREM=Int_Hpc_NREM_pre+Int_Hpc_NREM_post"
   ]
  },
  {
   "cell_type": "markdown",
   "id": "d167018b",
   "metadata": {},
   "source": [
    "### BLA"
   ]
  },
  {
   "cell_type": "code",
   "execution_count": null,
   "id": "cd5f48b0",
   "metadata": {},
   "outputs": [],
   "source": [
    "Pyr_BLA_NREM_pre=pl.get_first_last_avg_all_sessions(paths=paths, celltype='Pyr', region='BLA', stage='nrem', pre_RUN=True, min_dur=30)\n",
    "Pyr_BLA_NREM_post=pl.get_first_last_avg_all_sessions(paths=paths, celltype='Pyr', region='BLA', stage='nrem', pre_RUN=False, min_dur=30)\n",
    "Int_BLA_NREM_pre=pl.get_first_last_avg_all_sessions(paths=paths, celltype='Int', region='BLA', stage='nrem', pre_RUN=True, min_dur=30)\n",
    "Int_BLA_NREM_post=pl.get_first_last_avg_all_sessions(paths=paths, celltype='Int', region='BLA', stage='nrem', pre_RUN=False, min_dur=30)"
   ]
  },
  {
   "cell_type": "code",
   "execution_count": null,
   "id": "39659945",
   "metadata": {},
   "outputs": [],
   "source": [
    "Pyr_BLA_NREM=Pyr_BLA_NREM_pre+Pyr_BLA_NREM_post\n",
    "Int_BLA_NREM=Int_BLA_NREM_pre+Int_BLA_NREM_post"
   ]
  },
  {
   "cell_type": "markdown",
   "id": "999af52f",
   "metadata": {},
   "source": [
    "## REM"
   ]
  },
  {
   "cell_type": "markdown",
   "id": "679db343",
   "metadata": {},
   "source": [
    "### Hippocampus"
   ]
  },
  {
   "cell_type": "code",
   "execution_count": null,
   "id": "f1aed2f1",
   "metadata": {},
   "outputs": [],
   "source": [
    "Pyr_Hpc_REM_pre=pl.get_first_last_avg_all_sessions(paths=paths, celltype='Pyr', region='Hpc', stage='rem', pre_RUN=True, min_dur=30)\n",
    "Pyr_Hpc_REM_post=pl.get_first_last_avg_all_sessions(paths=paths, celltype='Pyr', region='Hpc', stage='rem', pre_RUN=False, min_dur=30)\n",
    "Int_Hpc_REM_pre=pl.get_first_last_avg_all_sessions(paths=paths, celltype='Int', region='Hpc', stage='rem', pre_RUN=True, min_dur=30)\n",
    "Int_Hpc_REM_post=pl.get_first_last_avg_all_sessions(paths=paths, celltype='Int', region='Hpc', stage='rem', pre_RUN=False, min_dur=30)"
   ]
  },
  {
   "cell_type": "code",
   "execution_count": null,
   "id": "128091e5",
   "metadata": {},
   "outputs": [],
   "source": [
    "Pyr_Hpc_REM=Pyr_Hpc_REM_pre+Pyr_Hpc_REM_post\n",
    "Int_Hpc_REM=Int_Hpc_REM_pre+Int_Hpc_REM_post"
   ]
  },
  {
   "cell_type": "markdown",
   "id": "7d52d577",
   "metadata": {},
   "source": [
    "### BLA"
   ]
  },
  {
   "cell_type": "code",
   "execution_count": null,
   "id": "2a88016e",
   "metadata": {},
   "outputs": [],
   "source": [
    "Pyr_BLA_REM_pre=pl.get_first_last_avg_all_sessions(paths=paths, celltype='Pyr', region='BLA', stage='rem', pre_RUN=True, min_dur=30)\n",
    "Pyr_BLA_REM_post=pl.get_first_last_avg_all_sessions(paths=paths, celltype='Pyr', region='BLA', stage='rem', pre_RUN=False, min_dur=30)\n",
    "Int_BLA_REM_pre=pl.get_first_last_avg_all_sessions(paths=paths, celltype='Int', region='BLA', stage='rem', pre_RUN=True, min_dur=30)\n",
    "Int_BLA_REM_post=pl.get_first_last_avg_all_sessions(paths=paths, celltype='Int', region='BLA', stage='rem', pre_RUN=False, min_dur=30)"
   ]
  },
  {
   "cell_type": "code",
   "execution_count": null,
   "id": "25a29258",
   "metadata": {},
   "outputs": [],
   "source": [
    "Pyr_BLA_REM=Pyr_BLA_REM_pre+Pyr_BLA_REM_post\n",
    "Int_BLA_REM=Int_BLA_REM_pre+Int_BLA_REM_post"
   ]
  },
  {
   "cell_type": "markdown",
   "id": "4f9d6807",
   "metadata": {},
   "source": [
    "# Plotting"
   ]
  },
  {
   "cell_type": "code",
   "execution_count": null,
   "id": "100f84cd",
   "metadata": {},
   "outputs": [],
   "source": [
    "a = np.array(Int_Hpc_REM)\n",
    "wil, wil_p = wilcoxon(x=a[:,0], y=a[:,1])\n",
    "ttest, ttest_p = ttest_ind(a[:,0],a[:,1])\n",
    "textstr = 'Wilcoxon p-value '+str(np.around(wil_p, 3)) +'\\n T-test p-value '+str(np.around(ttest_p, 3))\n",
    "# input data:\n",
    "first = a[:,0]\n",
    "last = a[:,1]\n",
    "\n",
    "plt.figure()\n",
    "# plotting the lines\n",
    "for i in range(len(first)):\n",
    "    plt.plot( [0,1], [first[i], last[i]], c='b')\n",
    "\n",
    "# plotting the points\n",
    "plt.scatter(np.zeros(len(first)), first, c='k')\n",
    "plt.scatter(np.ones(len(last)), last, c='k')\n",
    "\n",
    "#adding the average line\n",
    "avg_first=np.mean(first)\n",
    "avg_last=np.mean(last)\n",
    "plt.scatter(np.zeros(1), avg_first, c='k')\n",
    "plt.scatter(np.ones(1), avg_last, c='k')\n",
    "plt.plot([0,1], [avg_first,avg_last],c='r')\n",
    "\n",
    "plt.xticks([0,1], ['first epoch','last epoch'])\n",
    "plt.ylabel('Mean Firing Rate/s')\n",
    "plt.xlabel('First and last epoch of REM in an ES')\n",
    "plt.title('Hippocampal Interneurons')\n",
    "plt.suptitle('Firing Rate Change Between First and Last REM epoch in ES')\n",
    "\n",
    "props = dict(boxstyle='round', facecolor='wheat', alpha=0.5)\n",
    "plt.text(0.05, 200.95, textstr, fontsize=10, verticalalignment='top', bbox=props)\n",
    "\n",
    "plt.show()"
   ]
  },
  {
   "cell_type": "code",
   "execution_count": null,
   "id": "48c954c1",
   "metadata": {},
   "outputs": [],
   "source": [
    "plt.figure()\n",
    "a = np.array(Int_BLA_NREM)\n",
    "\n",
    "# Statistical Test\n",
    "wil, wil_p = wilcoxon(x=a[:,0], y=a[:,1])\n",
    "ttest, ttest_p = ttest_ind(a[:,0],a[:,1])\n",
    "textstr = 'Wilcoxon p-value '+str(np.around(wil_p, 3)) +'\\n T-test p-value '+str(np.around(ttest_p, 3))\n",
    "\n",
    "# input data:\n",
    "first = a[:,0]\n",
    "last = a[:,1]\n",
    "avg_first=np.mean(first)\n",
    "\n",
    "# plotting the lines\n",
    "for i in range(len(first)):\n",
    "    plt.plot( [0,1], [100, (last[i]*100)/avg_first], c='b')\n",
    "\n",
    "# plotting the points\n",
    "plt.scatter(np.ones(len(last)), (last*100)/avg_first, c='k')\n",
    "plt.scatter(np.zeros(1), 100, c='k')\n",
    "\n",
    "# adding the average line\n",
    "avg_first=np.mean(first)\n",
    "avg_last=np.mean(last)\n",
    "plt.scatter(np.zeros(1), 100, c='k')\n",
    "plt.scatter(np.ones(1), (avg_last*100)/avg_first, c='k')\n",
    "plt.plot([0,1], [100,(avg_last*100)/avg_first],c='r')\n",
    "\n",
    "plt.xticks([0,1], ['first epoch','last epoch'])\n",
    "plt.ylabel('Percentage change in population mean firing rate')\n",
    "plt.xlabel('First and last epoch of NREM in an ES')\n",
    "plt.title('BLA Interneurons')\n",
    "plt.suptitle('Firing Rate Change Between First and Last NREM epoch in ES \\n Last epoch firing rate shown as a percentage of the average firing rate of the first epoch')\n",
    "\n",
    "props = dict(boxstyle='round', facecolor='wheat', alpha=0.5)\n",
    "plt.text(0.05, 700.95, textstr, fontsize=10, verticalalignment='top', bbox=props)\n",
    "\n",
    "plt.tight_layout()\n",
    "\n",
    "plt.show()"
   ]
  },
  {
   "cell_type": "code",
   "execution_count": null,
   "id": "5d23eafb",
   "metadata": {},
   "outputs": [],
   "source": []
  }
 ],
 "metadata": {
  "kernelspec": {
   "display_name": "Python 3 (ipykernel)",
   "language": "python",
   "name": "python3"
  },
  "language_info": {
   "codemirror_mode": {
    "name": "ipython",
    "version": 3
   },
   "file_extension": ".py",
   "mimetype": "text/x-python",
   "name": "python",
   "nbconvert_exporter": "python",
   "pygments_lexer": "ipython3",
   "version": "3.8.8"
  }
 },
 "nbformat": 4,
 "nbformat_minor": 5
}
