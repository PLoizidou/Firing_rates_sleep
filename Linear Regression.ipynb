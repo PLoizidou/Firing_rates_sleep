{
 "cells": [
  {
   "cell_type": "code",
   "execution_count": null,
   "id": "ec3cdf14",
   "metadata": {},
   "outputs": [],
   "source": [
    "import bk.load\n",
    "import bk.plot\n",
    "import numpy as np\n",
    "import pandas as pd\n",
    "import matplotlib.pyplot as plt\n",
    "import matplotlib.patches as mpatches\n",
    "\n",
    "from sklearn.preprocessing import normalize\n",
    "from sklearn.linear_model import LinearRegression\n",
    "from sklearn.preprocessing import PolynomialFeatures\n",
    "\n",
    "import neuroseries as nts\n",
    "\n",
    "from scipy.stats import spearmanr,pearsonr, wilcoxon, zscore, ttest_ind, linregress\n",
    "\n",
    "import os\n",
    "import re\n",
    "from itertools import product\n",
    "\n",
    "\n",
    "%matplotlib qt\n",
    "import pl\n"
   ]
  },
  {
   "cell_type": "code",
   "execution_count": null,
   "id": "13b696c3",
   "metadata": {},
   "outputs": [],
   "source": [
    "# importing the directories of data for each session\n",
    "paths = pd.read_csv('Z:/All-Rats/Billel/session_indexing.csv',sep = ';')['Path']"
   ]
  },
  {
   "cell_type": "code",
   "execution_count": null,
   "id": "b216c39e",
   "metadata": {},
   "outputs": [],
   "source": [
    "# for z-scored FR\n",
    "all_ES_z=pl.norm_FR_ES(paths, region='Hpc', celltype='Pyr', min=0, max=2040, bin=60, min_dur=30, pre_post=False)"
   ]
  },
  {
   "cell_type": "code",
   "execution_count": null,
   "id": "7c5bafb4",
   "metadata": {},
   "outputs": [],
   "source": [
    "# for raw FR \n",
    "all_ES=pl.pop_FR_ES(paths=paths, region='BLA', celltype='Int', bin=60, min_dur=30, pre_post=False)"
   ]
  },
  {
   "cell_type": "code",
   "execution_count": null,
   "id": "8f6b3c00",
   "metadata": {},
   "outputs": [],
   "source": [
    "# visualizing how FR looks like\n",
    "for i in range(len(all_ES)):\n",
    "    plt.scatter(np.arange(len(all_ES[i])),all_ES[i])\n",
    "plt.title('Firing rate of each ES')\n",
    "plt.ylabel('Firing Rate')\n",
    "plt.xlabel('Time (m)')"
   ]
  },
  {
   "cell_type": "code",
   "execution_count": null,
   "id": "d4a626a3",
   "metadata": {},
   "outputs": [],
   "source": [
    "# regression line within each ES\n",
    "coefficient=[]\n",
    "plt.figure()\n",
    "for i in range(len(all_ES)):\n",
    "    fr_t=list(zip(all_ES[i], np.arange(len(all_ES[i])))) # zipping together x (time) and y (pop firing rate) values\n",
    "\n",
    "    a=np.array(fr_t)\n",
    "\n",
    "    # removing nan values\n",
    "    filt = np.isfinite(a[:,0])\n",
    "    y = a[filt,0]\n",
    "    x = a[filt,1]\n",
    "    \n",
    "    \n",
    "    if len(x)>0:\n",
    "\n",
    "        # linear regression\n",
    "        slope, intercept, r, p, se=linregress(x,y)\n",
    "        coefficient.append((slope, intercept, r, p, se))\n",
    "        \n",
    "        \n",
    "#         if slope>=0.5:\n",
    "        \n",
    "            # visualizing the linear regression fitted line\n",
    "        plt.scatter(x,y)\n",
    "        plt.plot(x, intercept + slope*x, 'b', label='fitted line')\n",
    "        plt.title('Firing rate of BLA-INT during all ES')\n",
    "        plt.ylabel('Firing Rate')\n",
    "        plt.xlabel('Time (m)')\n",
    "\n",
    "coefficient=np.array(coefficient)\n",
    "np.mean(coefficient[:,2])"
   ]
  },
  {
   "cell_type": "code",
   "execution_count": null,
   "id": "b602dc11",
   "metadata": {},
   "outputs": [],
   "source": [
    "# regression line for all ES pooled together\n",
    "\n",
    "fr_t=[]\n",
    "for i in range(len(all_ES)):\n",
    "    fr_t.extend(list(zip(all_ES[i], np.arange(len(all_ES[i]))))) # zipping together x (time) and y (pop firing rate) values\n",
    "    \n",
    "a=np.array(fr_t)\n",
    "\n",
    "# removing nan values\n",
    "filt = np.isfinite(a[:,0])\n",
    "y = a[filt,0]\n",
    "x = a[filt,1]\n",
    "\n",
    "# linear regression\n",
    "slope, intercept, r, p, se=linregress(x,y)\n",
    "\n",
    "# visualizing the linear regression fitted line\n",
    "plt.scatter(x,y)\n",
    "plt.plot(x, intercept + slope*x, 'r', label='fitted line')\n",
    "plt.title('Firing rate for all ES')\n",
    "plt.ylabel('Firing Rate (z)')\n",
    "plt.xlabel('Time (s)')"
   ]
  },
  {
   "cell_type": "code",
   "execution_count": null,
   "id": "07de805c",
   "metadata": {},
   "outputs": [],
   "source": [
    "# regression line within each ES stage\n",
    "\n",
    "all_ES_rem=pop_FR_ES_state(state='rem')\n",
    "\n",
    "\n",
    "slopes=[]\n",
    "plt.figure()\n",
    "for i in range(len(all_ES_rem)):\n",
    "    fr_t=list(zip(all_ES_rem[i], np.arange(len(all_ES_rem[i])))) # zipping together x (time) and y (pop firing rate) values\n",
    "\n",
    "    a=np.array(fr_t)\n",
    "\n",
    "    # removing nan values\n",
    "    if len(a)>0:\n",
    "        filt = np.isfinite(a[:,0])\n",
    "        y = a[filt,0]\n",
    "        x = a[filt,1]\n",
    "\n",
    "        if len(x)>0:\n",
    "\n",
    "            # linear regression\n",
    "            slope, intercept, r, p, se=linregress(x,y)\n",
    "            slopes.append((slope, intercept, r, p, se))\n",
    "            \n",
    "#             if slope>0.1:\n",
    "\n",
    "            # visualizing the linear regression fitted line\n",
    "            plt.scatter(x,y)\n",
    "            plt.plot(x, intercept + slope*x, 'b', label='fitted line')\n",
    "            plt.title('Firing rate of all ES')\n",
    "            plt.ylabel('Firing Rate')\n",
    "            plt.xlabel('Time (m)')\n",
    "\n",
    "slopes=np.array(slopes)\n",
    "np.nanmean(slopes[:,0])"
   ]
  },
  {
   "cell_type": "markdown",
   "id": "109e6503",
   "metadata": {},
   "source": [
    "# Statistical Comparisons\n",
    "\n",
    "Normalizing the firing rates and then taking average of FR in a fixed number of bins (so all ES have the same length)"
   ]
  },
  {
   "cell_type": "code",
   "execution_count": null,
   "id": "9d17e0b8",
   "metadata": {},
   "outputs": [],
   "source": [
    "all_ES_norm_pre,all_ES_norm_post =pl.pop_FR_ES_norm(paths=paths, region='Hpc', celltype='Pyr', bin=1, min_dur=30, pre_post=True)"
   ]
  },
  {
   "cell_type": "code",
   "execution_count": null,
   "id": "51794784",
   "metadata": {},
   "outputs": [],
   "source": [
    "plt.figure()\n",
    "plt.title(\"Pre-RUN FR for PYR-HPC across ES sessions\")\n",
    "plt.ylabel(\"Normalized FR\")\n",
    "plt.xlabel(\"Time Bins\")\n",
    "for i in range(len(all_ES_norm_pre)):\n",
    "    mean, bin_edges, count=binned_statistic(np.arange(len(all_ES_norm_pre[i][0])),all_ES_norm_pre[i][0], bins=40)\n",
    "    plt.scatter(np.arange(len(mean)),mean, \n",
    "           label='binned normalized FR')\n",
    "plt.legend()"
   ]
  },
  {
   "cell_type": "markdown",
   "id": "1cd9cb87",
   "metadata": {},
   "source": [
    "# Trends in successive NREM/REM epochs"
   ]
  },
  {
   "cell_type": "code",
   "execution_count": null,
   "id": "27d85ad9",
   "metadata": {},
   "outputs": [],
   "source": [
    "# regression line within each ES\n",
    "def regression_graph(paths=paths, region='Hpc', celltype='Pyr', state='nrem', bin=1, min_dur=30, pre_post=False):\n",
    "    \"\"\"\n",
    "    -> generates graph including average firing rate for each successive REM or NREM period in each ES and the associated line \n",
    "    -> returns array with slope, intercept, r, p, and se for each ES\n",
    "    \"\"\"\n",
    "    data=pl.pop_FR_ES_state(paths, region, celltype, state, bin, min_dur, pre_post)\n",
    "    \n",
    "    stats=[]\n",
    "    plt.figure()\n",
    "    for i in range(len(data)):\n",
    "        fr_t=list(zip(data[i], np.arange(len(data[i])))) # zipping together x (time) and y (pop firing rate) values\n",
    "\n",
    "        a=np.array(fr_t)\n",
    "\n",
    "        # removing nan values\n",
    "        if len(a)>0:\n",
    "            filt = np.isfinite(a[:,0])\n",
    "            y = a[filt,0]\n",
    "            x = a[filt,1]\n",
    "\n",
    "            if len(x)>0:\n",
    "\n",
    "                # linear regression\n",
    "                slope, intercept, r, p, se=linregress(x,y)\n",
    "                stats.append((slope, intercept, r, p, se))\n",
    "\n",
    "\n",
    "                # visualizing the linear regression fitted line\n",
    "                plt.scatter(x,y)\n",
    "                plt.plot(x, intercept + slope*x, 'b', label='fitted line')\n",
    "                plt.title(region+\"-\"+celltype+' FR in successive '+state+' epochs')\n",
    "                plt.ylabel('Firing Rate (spk/sec)')\n",
    "                plt.xlabel('Epoch Number')\n",
    "\n",
    "    stats=np.array(stats)\n",
    "    print(np.nanmean(stats[:,2]))\n",
    "    return stats"
   ]
  },
  {
   "cell_type": "code",
   "execution_count": null,
   "id": "24131ee8",
   "metadata": {},
   "outputs": [],
   "source": [
    "regions=[\"BLA\", \"Hpc\"]\n",
    "cells=[\"Pyr\", \"Int\"]\n",
    "sleep_stage=['rem', 'nrem']\n",
    "\n",
    "comb=list(product(regions, cells, sleep_stage))"
   ]
  },
  {
   "cell_type": "code",
   "execution_count": null,
   "id": "8edc880d",
   "metadata": {},
   "outputs": [],
   "source": [
    "stats=[]\n",
    "for i in comb:\n",
    "    x=regression_graph(paths=paths, region=i[0], celltype=i[1], state=i[2], bin=1, min_dur=30, pre_post=False)\n",
    "    stats.append(x)"
   ]
  },
  {
   "cell_type": "code",
   "execution_count": null,
   "id": "3257792e",
   "metadata": {},
   "outputs": [],
   "source": [
    "# table for stats to import in my methodology-results doc\n",
    "stats=np.array(stats)\n",
    "stats_flat=pl.flatten(stats)\n",
    "columns=[\"slope\", \"intercept\",\"r\", \"p\", \"se\"]\n",
    "table=pd.DataFrame(data=stats_flat, columns=columns)\n",
    "table"
   ]
  }
 ],
 "metadata": {
  "kernelspec": {
   "display_name": "Python 3 (ipykernel)",
   "language": "python",
   "name": "python3"
  },
  "language_info": {
   "codemirror_mode": {
    "name": "ipython",
    "version": 3
   },
   "file_extension": ".py",
   "mimetype": "text/x-python",
   "name": "python",
   "nbconvert_exporter": "python",
   "pygments_lexer": "ipython3",
   "version": "3.8.8"
  }
 },
 "nbformat": 4,
 "nbformat_minor": 5
}
